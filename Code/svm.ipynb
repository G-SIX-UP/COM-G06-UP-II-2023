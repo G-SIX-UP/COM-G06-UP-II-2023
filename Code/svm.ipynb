{
 "cells": [
  {
   "cell_type": "code",
   "execution_count": 1,
   "metadata": {},
   "outputs": [
    {
     "name": "stdout",
     "output_type": "stream",
     "text": [
      "     Ratio_Avg  diff_time  Label\n",
      "0    26.848070   2.049497      0\n",
      "1    26.136327   2.615487      0\n",
      "2    25.004267   1.974223      0\n",
      "3    26.894563   6.910386      1\n",
      "4    25.447297   0.701083      0\n",
      "..         ...        ...    ...\n",
      "295  25.810544   1.617700      0\n",
      "296  25.853088   9.709459      1\n",
      "297  26.773637   3.395636      1\n",
      "298  26.768499   6.238762      1\n",
      "299  25.986660   2.618143      0\n",
      "\n",
      "[300 rows x 3 columns]\n",
      "(240,) (240,)\n",
      "Model accuracy: 1.0\n"
     ]
    },
    {
     "data": {
      "text/plain": [
       "['svm_model.pkl']"
      ]
     },
     "execution_count": 1,
     "metadata": {},
     "output_type": "execute_result"
    }
   ],
   "source": [
    "from sklearn.model_selection import train_test_split\n",
    "from sklearn.svm import SVC\n",
    "import numpy as np\n",
    "import pandas as pd\n",
    "import joblib\n",
    "# we have collected data and stored the features (r_t) and labels (alert/drowsy) in separate lists or arrays\n",
    "# r_T contains extracted ratio values\n",
    "# labels contains corresponding labels (e.g., 0 for alert, 1 for drowsy)\n",
    "\n",
    "df = pd.read_csv(\"svc_data.csv\")\n",
    "print(df)\n",
    "r_t = df[\"diff_time\"]\n",
    "labels = df[\"Label\"]\n",
    "\n",
    "# Splitting data into training and testing sets\n",
    "X_train, X_test, y_train, y_test = train_test_split(r_t, labels, test_size=0.2, random_state=42)\n",
    "print(X_train.shape,y_train.shape)\n",
    "\n",
    "# Initializing SVM\n",
    "svm = SVC(kernel='linear', C=1.0, random_state=42)\n",
    "\n",
    "# Training the SVM\n",
    "svm.fit(np.array(X_train).reshape(-1, 1), y_train)\n",
    "\n",
    "# Evaluating the model\n",
    "accuracy = svm.score(np.array(X_test).reshape(-1, 1), y_test)\n",
    "print(f\"Model accuracy: {accuracy}\")\n",
    "\n",
    "# Now, you can use this trained SVM model to predict driver alertness based on r_t values from your detector\n",
    "joblib.dump(svm, 'svm_model.pkl')\n",
    "\n",
    "# 'predicted_label' will contain the predicted state (alert or drowsy)"
   ]
  },
  {
   "cell_type": "code",
   "execution_count": null,
   "metadata": {},
   "outputs": [],
   "source": []
  }
 ],
 "metadata": {
  "kernelspec": {
   "display_name": "Python 3",
   "language": "python",
   "name": "python3"
  },
  "language_info": {
   "codemirror_mode": {
    "name": "ipython",
    "version": 3
   },
   "file_extension": ".py",
   "mimetype": "text/x-python",
   "name": "python",
   "nbconvert_exporter": "python",
   "pygments_lexer": "ipython3",
   "version": "3.10.5"
  }
 },
 "nbformat": 4,
 "nbformat_minor": 2
}
